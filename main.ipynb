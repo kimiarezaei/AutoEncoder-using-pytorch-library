{
 "cells": [
  {
   "cell_type": "markdown",
   "id": "ff783381-9855-4f96-8b42-a4341265255f",
   "metadata": {
    "tags": []
   },
   "source": [
    "## AutoEncoder for anomaly detection\n",
    "An autoencoder is a special type of neural network that is trained to copy its input to its output. It first encodes the sample into a lower dimensional latent representation, then decodes the latent representation back to a sample.\n",
    "\n",
    "To use an autoencoder for anomaly detection, you compare the reconstructed version of sample with its source input. If the reconstructed version of sample differs greatly from its input, the sample is anomalous in some way.\n"
   ]
  },
  {
   "cell_type": "code",
   "execution_count": 1,
   "id": "57e4f6ff-5de4-4616-836e-09ae2b67efb9",
   "metadata": {},
   "outputs": [],
   "source": [
    "import pandas as pd\n",
    "import numpy as np\n",
    "from sklearn.metrics import mean_squared_error\n",
    "import torch\n",
    "import matplotlib\n",
    "import matplotlib.pyplot as plt\n",
    "import glob\n",
    "from sklearn.preprocessing import StandardScaler    # For feature normalization \n",
    "import torch.nn as nn\n",
    "import torch.nn.functional as F\n",
    "from torch.utils.data.dataloader import DataLoader\n",
    "from torch.utils.data import random_split\n",
    "from torchsummary import summary\n",
    "from sklearn.metrics import confusion_matrix, roc_curve, ConfusionMatrixDisplay\n",
    "from sklearn import metrics"
   ]
  },
  {
   "cell_type": "markdown",
   "id": "5235b0a0-9c1b-454a-8428-dbf7b541b282",
   "metadata": {
    "tags": []
   },
   "source": [
    "# Dataset preparation"
   ]
  },
  {
   "cell_type": "code",
   "execution_count": 2,
   "id": "ad7db326-e0ac-4e79-8bc0-86dc57274403",
   "metadata": {},
   "outputs": [],
   "source": [
    "#reading features or annotations from CSV files and concatenate them\n",
    "def my_data(file_list):\n",
    "    dfs = (pd.read_csv(file) for file in file_list)   #read csv files of each baby folder(use generator instead of list to occupy less memory)\n",
    "    df_concat = pd.concat(dfs, ignore_index=True)   #concatenate files of each baby to a unit one\n",
    "    df_final = df_concat.loc[(df_concat[\"seizure\"] != 2) & (df_concat[\"seizure\"] != 3 )]  #remove artifacts and disagreed annotatons\n",
    "    df_final = df_final.dropna()\n",
    "    df_final = df_final.reset_index(drop=True)     #reset the indexes after removing rows\n",
    "    return df_final"
   ]
  },
  {
   "cell_type": "code",
   "execution_count": 3,
   "id": "26fa2d28-fe7e-43bc-9d82-3d95f714f31c",
   "metadata": {},
   "outputs": [
    {
     "name": "stdout",
     "output_type": "stream",
     "text": [
      "18357 5564 4460\n"
     ]
    }
   ],
   "source": [
    "df_train1 = my_data(glob.glob('path/train/*.csv'))\n",
    "df_train = df_train1.loc[df_train1['seizure'] == 0]       #choose only normal class(non-seizure)\n",
    "df_val = my_data(glob.glob('path/validation/*.csv'))\n",
    "df_test = my_data(glob.glob('path/test/*.csv'))\n",
    "print(len(df_train),len(df_test), len(df_val))"
   ]
  },
  {
   "cell_type": "code",
   "execution_count": 4,
   "id": "a5c92126-25d0-48f7-ab87-edc6fda6aaf3",
   "metadata": {},
   "outputs": [],
   "source": [
    "x_train_r =  df_train.drop(columns=['seizure'])\n",
    "y_train = df_train['seizure'] \n",
    "x_val_r =  df_val.drop(columns=['seizure'])\n",
    "y_val = df_val['seizure'] \n",
    "x_test_r =  df_test.drop(columns=['seizure'])\n",
    "y_test = df_test['seizure'] "
   ]
  },
  {
   "cell_type": "code",
   "execution_count": 5,
   "id": "c635b994-4078-4c08-b243-aea57031c419",
   "metadata": {},
   "outputs": [],
   "source": [
    "#data standardization\n",
    "scaler = StandardScaler()\n",
    "Fit = scaler.fit(x_train_r)  \n",
    "x_train1 = Fit.transform(x_train_r)       # normalizing the features\n",
    "x_train = pd.DataFrame(x_train1, columns=x_train_r.columns)      #change to dataframe format again\n",
    "x_val1 = Fit.transform(x_val_r)         # normalizing the features\n",
    "x_val = pd.DataFrame(x_val1, columns=x_val_r.columns)      #change to dataframe format again\n",
    "x_test1 = Fit.transform(x_test_r)         # normalizing the features\n",
    "x_test = pd.DataFrame(x_test1, columns=x_test_r.columns)      #change to dataframe format again"
   ]
  },
  {
   "cell_type": "code",
   "execution_count": 6,
   "id": "a9926c5d-f74e-4bfc-b92a-6cbfb7ff1a55",
   "metadata": {},
   "outputs": [],
   "source": [
    "#transform to tensor\n",
    "feature_train = torch.tensor(x_train.values, dtype=torch.float, requires_grad=True)\n",
    "target_train = torch.tensor(y_train.values, dtype=torch.int64)             #targets should be integer and 1 dementional\n",
    "feature_val = torch.tensor(x_val.values, dtype=torch.float, requires_grad=True)\n",
    "target_val = torch.tensor(y_val.values, dtype=torch.int64)             #targets should be integer and 1 dementional\n",
    "feature_test = torch.tensor(x_test.values, dtype=torch.float, requires_grad=True)\n",
    "target_test = torch.tensor(y_test.values, dtype=torch.int64)             #targets should be integer and 1 dementional"
   ]
  },
  {
   "cell_type": "code",
   "execution_count": 7,
   "id": "12b949e8-d728-452d-ad2a-e0666ecd314d",
   "metadata": {},
   "outputs": [],
   "source": [
    "#define input and labels\n",
    "df_dl_train = torch.utils.data.TensorDataset(feature_train,target_train)\n",
    "df_dl_val = torch.utils.data.TensorDataset(feature_val,target_val)\n",
    "df_dl_test = torch.utils.data.TensorDataset(feature_test,target_test)"
   ]
  },
  {
   "cell_type": "code",
   "execution_count": 8,
   "id": "2a2afb09-a467-4b7e-bbe2-1d051ab9570a",
   "metadata": {},
   "outputs": [],
   "source": [
    "#seperating both train and validation data into batches\n",
    "batch_size = 256         \n",
    "train_dl= DataLoader(df_dl_train, batch_size, shuffle=True, pin_memory=True)\n",
    "val_dl = DataLoader(df_dl_val, batch_size*2,shuffle=True, pin_memory=True)\n",
    "test_dl = DataLoader(df_dl_test, batch_size)"
   ]
  },
  {
   "cell_type": "code",
   "execution_count": 9,
   "id": "7d530c51-6bdd-45fb-b5bd-2a549a335f00",
   "metadata": {},
   "outputs": [],
   "source": [
    "#number of input and output of layers\n",
    "input_size = 16            #number of features(size of input sample)"
   ]
  },
  {
   "cell_type": "markdown",
   "id": "16914544-0a40-425a-aaff-b9c32a32ec91",
   "metadata": {
    "tags": []
   },
   "source": [
    "# Training and validation"
   ]
  },
  {
   "cell_type": "code",
   "execution_count": 10,
   "id": "64273054-434d-42e9-9230-3a57a022e3d1",
   "metadata": {},
   "outputs": [],
   "source": [
    "class MyClassificationBase(nn.Module):\n",
    "    \n",
    "    def training_step(self,batch):\n",
    "        features, labels = batch\n",
    "        out = self(features)            #model prediction for training data\n",
    "        loss = F.mse_loss(out,features)\n",
    "        return loss\n",
    "    \n",
    "    def validation_step(self,batch):\n",
    "        features, labels = batch\n",
    "        out = self(features)            #model prediction for validation data\n",
    "        loss = F.mse_loss(out,features)\n",
    "        return {'val_loss':loss.detach(), 'prediction':out.detach()}\n",
    "    \n",
    "    def validation_epoch(self, outputs):\n",
    "        batch_losses = [x['val_loss'] for x in outputs]\n",
    "        epoch_loss = torch.stack(batch_losses).mean()   # Combine losses and get their mean\n",
    "        batch_out =  [x['prediction'] for x in outputs]   # combine prediction tensors\n",
    "        epoch_out = torch.cat(batch_out)\n",
    "        return {'val_loss': epoch_loss.item(), 'prediction':epoch_out}\n",
    "    \n",
    "    def epoch_end(self, ep, result):\n",
    "        print(\"Epoch [{}], train_loss: {:.4f}, val_loss: {:.4f}, prediction[{}] \".format(ep, result['train_loss'], result['val_loss'], result['prediction']))"
   ]
  },
  {
   "cell_type": "code",
   "execution_count": 11,
   "id": "2da875d5-bb4e-4bce-85bb-412a0e355046",
   "metadata": {},
   "outputs": [],
   "source": [
    "class MyAutoEncoderModel(MyClassificationBase):\n",
    "    \n",
    "    def __init__(self):            #create a class\n",
    "        super().__init__()             #call parent class\n",
    "        # Encoder and Decoder layers combined using nn.Sequential\n",
    "        self.encoder = nn.Sequential(\n",
    "            nn.Linear(16, 10),\n",
    "            nn.Sigmoid(),\n",
    "            nn.Linear(10, 4),\n",
    "            nn.Sigmoid(),\n",
    "            nn.Dropout(0.05)\n",
    "        )\n",
    "\n",
    "        self.decoder = nn.Sequential(\n",
    "            nn.Linear(4, 10),\n",
    "            nn.Sigmoid(),\n",
    "            nn.Linear(10, 16),\n",
    "            nn.Sigmoid()\n",
    "        )\n",
    "\n",
    "        # Weight initialization using Xavier/Glorot initialization\n",
    "        for m in self.modules():\n",
    "            if isinstance(m, nn.Linear):\n",
    "                nn.init.xavier_uniform_(m.weight)\n",
    "\n",
    "    def forward(self, data):\n",
    "        encoded = self.encoder(data)\n",
    "        decoded = self.decoder(encoded)\n",
    "        return decoded"
   ]
  },
  {
   "cell_type": "code",
   "execution_count": 12,
   "id": "8a7dd2b8-113c-4ac3-aa8a-7426324fe229",
   "metadata": {},
   "outputs": [],
   "source": [
    "model = MyAutoEncoderModel()"
   ]
  },
  {
   "cell_type": "code",
   "execution_count": 13,
   "id": "e28154c2-17bc-4ac2-8063-a97cf2ca5c32",
   "metadata": {},
   "outputs": [],
   "source": [
    "#function for moving data and model to a chosen device(gpu or cpu)\n",
    "device = 'cuda' if torch.cuda.is_available() else 'cpu'\n",
    "def to_device(data, device):    \n",
    "    if isinstance(data, (list,tuple)):\n",
    "        return [to_device(x, device) for x in data]    \n",
    "    return data.to(device, non_blocking=True)"
   ]
  },
  {
   "cell_type": "code",
   "execution_count": 14,
   "id": "510a722b-c7a9-48e1-8cd0-21592fc8dbe3",
   "metadata": {},
   "outputs": [],
   "source": [
    "#create a class to wrap our existing data loaders and move batches of data to the selected device.\n",
    "class DeviceDataLoader():\n",
    "    def __init__(self, dl, device):\n",
    "        self.dl = dl\n",
    "        self.device = device\n",
    "        \n",
    "    'Yield a batch of data after moving it to device'    \n",
    "    def __iter__(self):\n",
    "        for b in self.dl:\n",
    "            yield to_device(b, self.device)\n",
    "            \n",
    "    def __len__(self):\n",
    "        return len(self.dl)     #number of batches           "
   ]
  },
  {
   "cell_type": "code",
   "execution_count": 15,
   "id": "d6069582-d04c-417c-9e4b-b6f6415d158f",
   "metadata": {
    "tags": []
   },
   "outputs": [],
   "source": [
    "train_loader = DeviceDataLoader(train_dl,device)\n",
    "val_loader = DeviceDataLoader(val_dl,device)\n",
    "test_loader = DeviceDataLoader(test_dl,device)\n",
    "model_gpu = to_device(model,device)"
   ]
  },
  {
   "cell_type": "code",
   "execution_count": 16,
   "id": "3e5c919c-fd41-49c7-8bd3-ea6ac53757fc",
   "metadata": {},
   "outputs": [],
   "source": [
    "@torch.no_grad()                #disables gradient calculation during the evaluation to save memory\n",
    "\n",
    "def evaluation(def_model, eval_data):\n",
    "    def_model.eval()\n",
    "    results = [def_model.validation_step(v_batch) for v_batch in eval_data]\n",
    "    return def_model.validation_epoch(results)\n",
    "\n",
    "\n",
    "# function for training the model using gradient descent\n",
    "def fit(epochs, lr, modelg, train_dataset, val_dataset, opt_func):\n",
    "    \n",
    "    history = []\n",
    "    optimizer = opt_func(modelg.parameters(), lr)\n",
    "    \n",
    "    for epoch in range(epochs):\n",
    "        #training phase\n",
    "        modelg.train()\n",
    "        train_losses = []\n",
    "        for batch in train_dataset:\n",
    "            loss = modelg.training_step(batch)\n",
    "            train_losses.append(loss)\n",
    "            loss.backward()\n",
    "            optimizer.step()\n",
    "            optimizer.zero_grad()\n",
    "            \n",
    "        #validation phase\n",
    "        result = evaluation(modelg, val_dataset)\n",
    "        result['train_loss'] = torch.stack(train_losses).mean().item()\n",
    "        modelg.epoch_end(epoch, result)\n",
    "        history.append(result)\n",
    "        \n",
    "    return history  "
   ]
  },
  {
   "cell_type": "code",
   "execution_count": 17,
   "id": "5a1c632d-808b-4a7e-b17c-5a07f8e94d39",
   "metadata": {
    "tags": []
   },
   "outputs": [
    {
     "data": {
      "text/plain": [
       "{'val_loss': 1.8533802032470703,\n",
       " 'prediction': tensor([[0.4295, 0.5067, 0.5579,  ..., 0.6135, 0.4830, 0.7429],\n",
       "         [0.4303, 0.5098, 0.5578,  ..., 0.6156, 0.4837, 0.7436],\n",
       "         [0.4304, 0.5093, 0.5622,  ..., 0.6131, 0.4824, 0.7451],\n",
       "         ...,\n",
       "         [0.4300, 0.5077, 0.5574,  ..., 0.6153, 0.4841, 0.7456],\n",
       "         [0.4309, 0.5082, 0.5606,  ..., 0.6146, 0.4836, 0.7473],\n",
       "         [0.4302, 0.5074, 0.5591,  ..., 0.6142, 0.4834, 0.7454]],\n",
       "        device='cuda:0')}"
      ]
     },
     "execution_count": 17,
     "metadata": {},
     "output_type": "execute_result"
    }
   ],
   "source": [
    "evaluation(model_gpu, val_loader)"
   ]
  },
  {
   "cell_type": "code",
   "execution_count": 18,
   "id": "501c3369-c2ed-4416-bcca-15ef44838c63",
   "metadata": {},
   "outputs": [],
   "source": [
    "epochs = 10\n",
    "lr = 0.01\n",
    "opt_function = torch.optim.Adam"
   ]
  },
  {
   "cell_type": "code",
   "execution_count": 19,
   "id": "65889f72-02a4-4d48-9e28-92f39972763e",
   "metadata": {
    "tags": []
   },
   "outputs": [
    {
     "name": "stdout",
     "output_type": "stream",
     "text": [
      "Epoch [0], train_loss: 0.8967, val_loss: 1.3683, prediction[tensor([[9.7287e-02, 4.9766e-01, 4.0309e-01,  ..., 2.3405e-01, 7.9045e-01,\n",
      "         3.6438e-03],\n",
      "        [4.2940e-02, 1.6055e-01, 1.3733e-01,  ..., 9.9576e-02, 4.6207e-01,\n",
      "         7.8246e-04],\n",
      "        [2.8604e-01, 8.9724e-01, 8.5650e-01,  ..., 5.2888e-01, 9.4881e-01,\n",
      "         5.2486e-02],\n",
      "        ...,\n",
      "        [1.8943e-03, 6.9601e-04, 9.9265e-04,  ..., 2.4658e-03, 3.5917e-03,\n",
      "         4.5073e-06],\n",
      "        [2.5638e-03, 1.0840e-03, 1.5622e-03,  ..., 3.5548e-03, 6.4162e-03,\n",
      "         6.2577e-06],\n",
      "        [2.7897e-01, 8.9376e-01, 8.4946e-01,  ..., 5.2458e-01, 9.4939e-01,\n",
      "         4.7536e-02]], device='cuda:0')] \n",
      "Epoch [1], train_loss: 0.7650, val_loss: 1.2553, prediction[tensor([[2.3070e-02, 1.0160e-04, 5.2934e-05,  ..., 1.2459e-02, 4.2986e-04,\n",
      "         1.3319e-06],\n",
      "        [3.5655e-01, 6.9244e-01, 3.0190e-01,  ..., 8.3372e-01, 8.5272e-01,\n",
      "         1.0741e-04],\n",
      "        [2.2274e-02, 9.9089e-05, 5.3129e-05,  ..., 1.1797e-02, 4.2107e-04,\n",
      "         1.3517e-06],\n",
      "        ...,\n",
      "        [3.4433e-01, 6.1691e-01, 2.2687e-01,  ..., 8.3238e-01, 8.0790e-01,\n",
      "         7.9243e-05],\n",
      "        [2.4948e-02, 1.1102e-04, 5.3939e-05,  ..., 1.4470e-02, 4.6529e-04,\n",
      "         1.2698e-06],\n",
      "        [3.1923e-01, 4.9878e-01, 1.4584e-01,  ..., 8.2686e-01, 7.2529e-01,\n",
      "         5.2118e-05]], device='cuda:0')] \n",
      "Epoch [2], train_loss: 0.7196, val_loss: 1.2276, prediction[tensor([[7.6532e-01, 1.0939e-02, 2.6927e-03,  ..., 4.6570e-02, 1.3973e-01,\n",
      "         1.7834e-05],\n",
      "        [1.8178e-01, 1.2431e-02, 6.7148e-02,  ..., 2.4517e-05, 4.3408e-01,\n",
      "         1.7847e-04],\n",
      "        [9.4223e-04, 5.4657e-06, 1.5950e-06,  ..., 2.1108e-03, 4.6214e-05,\n",
      "         5.2022e-07],\n",
      "        ...,\n",
      "        [2.7381e-01, 5.0282e-01, 6.8532e-02,  ..., 9.5446e-01, 6.3184e-01,\n",
      "         3.7402e-05],\n",
      "        [9.6616e-04, 5.6384e-06, 1.6654e-06,  ..., 2.0738e-03, 4.8105e-05,\n",
      "         5.3393e-07],\n",
      "        [9.4117e-04, 5.4671e-06, 1.5981e-06,  ..., 2.1017e-03, 4.6260e-05,\n",
      "         5.2084e-07]], device='cuda:0')] \n",
      "Epoch [3], train_loss: 0.7081, val_loss: 1.2171, prediction[tensor([[8.9215e-01, 1.1415e-01, 1.2244e-02,  ..., 4.5662e-01, 5.5137e-01,\n",
      "         1.1782e-05],\n",
      "        [3.3305e-01, 5.2772e-01, 4.6943e-02,  ..., 9.7621e-01, 6.9295e-01,\n",
      "         1.9887e-05],\n",
      "        [3.4738e-04, 2.3406e-06, 5.0085e-07,  ..., 1.0907e-03, 4.5691e-05,\n",
      "         3.1389e-07],\n",
      "        ...,\n",
      "        [8.6694e-01, 3.0242e-01, 4.2960e-02,  ..., 5.1519e-01, 7.7015e-01,\n",
      "         1.7622e-05],\n",
      "        [4.3121e-03, 5.2267e-03, 2.3229e-04,  ..., 9.3615e-01, 1.5736e-02,\n",
      "         9.9404e-07],\n",
      "        [9.0125e-01, 2.8121e-01, 4.4719e-02,  ..., 3.8095e-01, 7.8156e-01,\n",
      "         1.8870e-05]], device='cuda:0')] \n",
      "Epoch [4], train_loss: 0.7041, val_loss: 1.2120, prediction[tensor([[5.3590e-02, 4.8597e-02, 5.5006e-04,  ..., 9.9781e-01, 6.9375e-02,\n",
      "         2.6982e-06],\n",
      "        [1.6509e-03, 1.3500e-06, 2.3637e-07,  ..., 4.3893e-04, 6.1660e-05,\n",
      "         2.5835e-07],\n",
      "        [1.1704e-03, 1.0623e-06, 1.8486e-07,  ..., 4.1375e-04, 4.8773e-05,\n",
      "         2.2233e-07],\n",
      "        ...,\n",
      "        [9.9152e-01, 2.1940e-01, 7.3479e-02,  ..., 8.8590e-03, 8.6434e-01,\n",
      "         3.9367e-05],\n",
      "        [1.1254e-03, 1.0161e-06, 1.7508e-07,  ..., 4.1930e-04, 4.6354e-05,\n",
      "         2.1600e-07],\n",
      "        [6.4231e-01, 3.5648e-04, 1.7496e-05,  ..., 1.3065e-01, 3.8979e-03,\n",
      "         1.9484e-06]], device='cuda:0')] \n",
      "Epoch [5], train_loss: 0.7000, val_loss: 1.2103, prediction[tensor([[8.6209e-04, 9.9894e-01, 9.9848e-01,  ..., 2.1085e-01, 9.9948e-01,\n",
      "         7.6616e-04],\n",
      "        [4.2643e-01, 3.8983e-05, 6.9640e-06,  ..., 5.2771e-03, 5.3550e-04,\n",
      "         1.1998e-06],\n",
      "        [2.8560e-01, 4.1722e-01, 1.6759e-02,  ..., 9.7432e-01, 5.1593e-01,\n",
      "         5.8049e-06],\n",
      "        ...,\n",
      "        [1.3447e-01, 1.5635e-01, 2.5450e-03,  ..., 9.9449e-01, 1.7015e-01,\n",
      "         3.2223e-06],\n",
      "        [7.5596e-04, 9.9852e-01, 9.9876e-01,  ..., 1.0089e-01, 9.9914e-01,\n",
      "         3.9539e-03],\n",
      "        [3.1121e-04, 8.3082e-07, 7.0206e-07,  ..., 6.8752e-05, 6.0615e-05,\n",
      "         1.5472e-07]], device='cuda:0')] \n",
      "Epoch [6], train_loss: 0.6988, val_loss: 1.2029, prediction[tensor([[1.3319e-04, 9.9942e-01, 9.9950e-01,  ..., 2.3011e-01, 9.9968e-01,\n",
      "         2.0304e-03],\n",
      "        [6.8653e-04, 3.7809e-07, 2.5248e-07,  ..., 5.7101e-05, 4.1396e-05,\n",
      "         1.1543e-07],\n",
      "        [2.3076e-01, 9.6733e-01, 9.9073e-01,  ..., 2.4824e-04, 9.9502e-01,\n",
      "         3.9576e-03],\n",
      "        ...,\n",
      "        [8.1928e-04, 4.2903e-07, 2.8076e-07,  ..., 5.9980e-05, 4.6216e-05,\n",
      "         1.2396e-07],\n",
      "        [4.8771e-01, 9.5021e-01, 9.7877e-01,  ..., 4.1605e-04, 9.9624e-01,\n",
      "         5.0797e-04],\n",
      "        [9.7213e-01, 8.0091e-04, 3.6662e-05,  ..., 1.9283e-01, 7.4216e-03,\n",
      "         1.6155e-06]], device='cuda:0')] \n",
      "Epoch [7], train_loss: 0.6979, val_loss: 1.2110, prediction[tensor([[5.7229e-02, 9.6272e-01, 6.0224e-01,  ..., 9.7830e-01, 9.6790e-01,\n",
      "         2.5255e-05],\n",
      "        [8.4127e-01, 4.6414e-05, 3.4748e-06,  ..., 3.9595e-03, 5.0753e-04,\n",
      "         9.5310e-07],\n",
      "        [4.8109e-02, 9.6348e-01, 5.8066e-01,  ..., 9.8504e-01, 9.6540e-01,\n",
      "         2.5444e-05],\n",
      "        ...,\n",
      "        [5.3794e-02, 9.8785e-01, 9.7318e-01,  ..., 1.3137e-01, 9.9768e-01,\n",
      "         2.7787e-05],\n",
      "        [1.6332e-01, 9.7751e-01, 9.9361e-01,  ..., 2.8491e-04, 9.9519e-01,\n",
      "         4.4203e-03],\n",
      "        [9.7172e-01, 3.6357e-04, 1.4048e-05,  ..., 4.4939e-02, 2.4671e-03,\n",
      "         1.0629e-06]], device='cuda:0')] \n",
      "Epoch [8], train_loss: 0.6960, val_loss: 1.2166, prediction[tensor([[9.1981e-01, 4.7796e-01, 3.5725e-02,  ..., 3.1693e-01, 8.7095e-01,\n",
      "         2.6062e-06],\n",
      "        [2.9129e-02, 9.6007e-01, 3.5357e-01,  ..., 9.9200e-01, 9.6265e-01,\n",
      "         1.7687e-05],\n",
      "        [1.6188e-04, 5.3114e-07, 1.7278e-07,  ..., 5.9127e-06, 7.4920e-05,\n",
      "         7.0534e-08],\n",
      "        ...,\n",
      "        [2.0387e-04, 1.9648e-03, 2.8126e-02,  ..., 5.5785e-09, 4.3158e-01,\n",
      "         5.0863e-06],\n",
      "        [2.9547e-02, 9.6330e-01, 3.9935e-01,  ..., 9.9024e-01, 9.6723e-01,\n",
      "         1.8284e-05],\n",
      "        [1.6180e-04, 5.3101e-07, 1.7276e-07,  ..., 5.9116e-06, 7.4911e-05,\n",
      "         7.0525e-08]], device='cuda:0')] \n",
      "Epoch [9], train_loss: 0.6956, val_loss: 1.2048, prediction[tensor([[4.3307e-05, 9.9969e-01, 9.9966e-01,  ..., 3.6159e-01, 9.9984e-01,\n",
      "         3.6513e-04],\n",
      "        [5.0005e-04, 9.9864e-01, 9.9853e-01,  ..., 9.9174e-02, 9.9858e-01,\n",
      "         4.5073e-03],\n",
      "        [1.3961e-04, 5.3595e-07, 7.1781e-08,  ..., 8.4219e-06, 3.3833e-05,\n",
      "         5.7299e-08],\n",
      "        ...,\n",
      "        [9.6491e-01, 3.6775e-01, 6.9926e-02,  ..., 5.1413e-02, 9.0524e-01,\n",
      "         2.6702e-06],\n",
      "        [1.3971e-04, 5.3602e-07, 7.1789e-08,  ..., 8.4246e-06, 3.3835e-05,\n",
      "         5.7306e-08],\n",
      "        [8.9750e-01, 1.9544e-05, 6.2414e-07,  ..., 1.5596e-03, 2.3953e-04,\n",
      "         4.5706e-07]], device='cuda:0')] \n"
     ]
    }
   ],
   "source": [
    "history = fit(epochs,lr , model_gpu, train_loader, val_loader, opt_function)"
   ]
  },
  {
   "cell_type": "code",
   "execution_count": 20,
   "id": "44e92d07-7cc2-41f0-85bc-763b91f4eaae",
   "metadata": {},
   "outputs": [],
   "source": [
    "def plot_losses(history):\n",
    "    plt.figure(figsize=(4,2))\n",
    "    train_losses = [x.get('train_loss') for x in history]\n",
    "    val_losses = [x['val_loss'] for x in history]\n",
    "    plt.plot(train_losses, '-b*')\n",
    "    plt.plot(val_losses, '-r*')\n",
    "    plt.xlabel('epoch')\n",
    "    plt.ylabel('loss')\n",
    "    plt.legend(['Training', 'Validation'])\n",
    "    plt.title('Loss vs. No. of epochs');"
   ]
  },
  {
   "cell_type": "code",
   "execution_count": 21,
   "id": "370f954d-5acd-4402-994a-cd3e50b84552",
   "metadata": {},
   "outputs": [
    {
     "data": {
      "image/png": "[encoded data removed]",
      "text/plain": [
       "<Figure size 400x200 with 1 Axes>"
      ]
     },
     "metadata": {},
     "output_type": "display_data"
    }
   ],
   "source": [
    "plot_losses(history)"
   ]
  },
  {
   "cell_type": "code",
   "execution_count": 22,
   "id": "282c00a4-13a5-4a8a-8123-7d2cbde2a4ae",
   "metadata": {},
   "outputs": [],
   "source": [
    "#save our model\n",
    "torch.save(model_gpu.state_dict(), 'model/24072023-autoencoder.pth')"
   ]
  },
  {
   "cell_type": "markdown",
   "id": "1dc95688-926b-4db3-90cf-83735a420bd3",
   "metadata": {},
   "source": [
    "# Evaluate the model using test dataset"
   ]
  },
  {
   "cell_type": "code",
   "execution_count": 23,
   "id": "96ab0a53-237f-4bc4-836b-3194f6966b85",
   "metadata": {},
   "outputs": [
    {
     "data": {
      "text/plain": [
       "{'val_loss': 0.3902376592159271,\n",
       " 'prediction': tensor([[9.5736e-04, 1.0343e-06, 9.9982e-08,  ..., 1.8753e-05, 4.6033e-05,\n",
       "          8.4541e-08],\n",
       "         [8.3210e-01, 1.7072e-05, 6.0244e-07,  ..., 1.6510e-03, 2.2397e-04,\n",
       "          3.5990e-07],\n",
       "         [2.2803e-04, 7.0814e-07, 8.2541e-08,  ..., 1.0019e-05, 3.9855e-05,\n",
       "          6.5018e-08],\n",
       "         ...,\n",
       "         [9.9784e-01, 1.9879e-01, 7.3738e-02,  ..., 1.4483e-03, 8.5116e-01,\n",
       "          9.0775e-06],\n",
       "         [8.3292e-01, 8.2458e-01, 7.4283e-01,  ..., 5.2000e-03, 9.9015e-01,\n",
       "          8.5604e-06],\n",
       "         [7.2271e-01, 8.8971e-01, 8.7848e-01,  ..., 3.1119e-03, 9.9431e-01,\n",
       "          1.2483e-05]], device='cuda:0')}"
      ]
     },
     "execution_count": 23,
     "metadata": {},
     "output_type": "execute_result"
    }
   ],
   "source": [
    "result = evaluation(model_gpu, test_loader)\n",
    "result"
   ]
  },
  {
   "cell_type": "code",
   "execution_count": 24,
   "id": "0f6156ac-e604-4ba9-8df9-9485a198d47f",
   "metadata": {},
   "outputs": [],
   "source": [
    "total_pred_test = (result['prediction']).cpu().numpy()\n",
    "x_test_arr = x_test.to_numpy()"
   ]
  },
  {
   "cell_type": "code",
   "execution_count": 25,
   "id": "d29600e9-6fcf-4452-89e4-6ae4e098135b",
   "metadata": {},
   "outputs": [
    {
     "data": {
      "text/plain": [
       "array([[9.5736410e-04, 1.0343125e-06, 9.9982095e-08, ..., 1.8753213e-05,\n",
       "        4.6032521e-05, 8.4541263e-08],\n",
       "       [8.3209580e-01, 1.7072060e-05, 6.0244406e-07, ..., 1.6510291e-03,\n",
       "        2.2396813e-04, 3.5989854e-07],\n",
       "       [2.2802895e-04, 7.0813979e-07, 8.2540978e-08, ..., 1.0019347e-05,\n",
       "        3.9854869e-05, 6.5018028e-08],\n",
       "       ...,\n",
       "       [9.9784434e-01, 1.9879226e-01, 7.3737942e-02, ..., 1.4482959e-03,\n",
       "        8.5116273e-01, 9.0774702e-06],\n",
       "       [8.3291721e-01, 8.2458103e-01, 7.4282700e-01, ..., 5.1999739e-03,\n",
       "        9.9014854e-01, 8.5603833e-06],\n",
       "       [7.2270805e-01, 8.8970560e-01, 8.7848020e-01, ..., 3.1118605e-03,\n",
       "        9.9430817e-01, 1.2482742e-05]], dtype=float32)"
      ]
     },
     "execution_count": 25,
     "metadata": {},
     "output_type": "execute_result"
    }
   ],
   "source": [
    "total_pred_test"
   ]
  },
  {
   "cell_type": "code",
   "execution_count": 26,
   "id": "90584712-d0d8-415e-9ebd-033975924ed7",
   "metadata": {},
   "outputs": [
    {
     "data": {
      "text/plain": [
       "array([[ 0.28398623, -0.23366396, -0.25490663, ..., -0.27740744,\n",
       "         0.23750713, -0.35256149],\n",
       "       [ 0.32928245, -0.2810212 , -0.26731731, ..., -0.33356402,\n",
       "         0.17667963, -0.3967209 ],\n",
       "       [ 0.44687536, -0.44271784, -0.29135796, ..., -0.52024965,\n",
       "        -0.04370619, -0.61944266],\n",
       "       ...,\n",
       "       [ 1.34089182, -0.03188539,  0.28427213, ..., -0.53835494,\n",
       "         0.71052372, -0.9002333 ],\n",
       "       [ 1.42038178,  0.50853343,  0.75422417, ..., -0.36427684,\n",
       "         1.19018639, -0.85038387],\n",
       "       [ 1.46929928,  0.84848729,  1.08868496, ..., -0.27916495,\n",
       "         1.40414998, -0.85100655]])"
      ]
     },
     "execution_count": 26,
     "metadata": {},
     "output_type": "execute_result"
    }
   ],
   "source": [
    "x_test_arr"
   ]
  },
  {
   "cell_type": "code",
   "execution_count": 27,
   "id": "e9e86ba3-046a-4441-8ca5-c6f297e6a162",
   "metadata": {
    "tags": []
   },
   "outputs": [],
   "source": [
    "pred_target_error = [mean_squared_error(total_pred_test[i],x_test_arr[i]) for i in range(len(total_pred_test))]"
   ]
  },
  {
   "cell_type": "code",
   "execution_count": 28,
   "id": "cf049e24-06ce-4abe-b07a-d90277b95803",
   "metadata": {},
   "outputs": [
    {
     "name": "stdout",
     "output_type": "stream",
     "text": [
      "auc value: 0.6078009344929682\n"
     ]
    },
    {
     "data": {
      "image/png": "[encoded data removed]",
      "text/plain": [
       "<Figure size 640x480 with 1 Axes>"
      ]
     },
     "metadata": {},
     "output_type": "display_data"
    }
   ],
   "source": [
    "# ROC calculation\n",
    "fpr, tpr, thresholds  = roc_curve(y_test, np.ravel(pred_target_error))    #compare annotaion file labels with classifier prediction result \n",
    "sensitivity = tpr\n",
    "specificity = 1-fpr\n",
    "\n",
    "plt.plot(specificity, sensitivity, marker='.')\n",
    "#plt.title('ROC cureve of RF classifer')\n",
    "plt.xlabel('specificity')\n",
    "plt.ylabel('sensitivity')\n",
    "auc_value = metrics.auc(fpr, tpr)\n",
    "print('auc value:', auc_value)\n",
    "\n",
    "# plt.savefig('./photos/roc-RF.png')\n",
    "plt.show()"
   ]
  }
 ],
 "metadata": {
  "kernelspec": {
   "display_name": " vasie_kimia ",
   "language": "python",
   "name": "vasie_kimia"
  },
  "language_info": {
   "codemirror_mode": {
    "name": "ipython",
    "version": 3
   },
   "file_extension": ".py",
   "mimetype": "text/x-python",
   "name": "python",
   "nbconvert_exporter": "python",
   "pygments_lexer": "ipython3",
   "version": "3.11.3"
  }
 },
 "nbformat": 4,
 "nbformat_minor": 5
}
